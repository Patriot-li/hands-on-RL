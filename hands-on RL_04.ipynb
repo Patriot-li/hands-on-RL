{
 "cells": [
  {
   "cell_type": "markdown",
   "id": "7c8634c6-f679-474d-bdc5-121701a1d5ee",
   "metadata": {},
   "source": [
    "# 4 Model-free Method(无模型算法)"
   ]
  },
  {
   "cell_type": "markdown",
   "id": "23785d75-0304-4e34-8b84-157b65f86970",
   "metadata": {},
   "source": [
    "#### 通过前面的算法我们发现，必须要知道环境的状态转换概率（state-transition probobility）才可以计算环境状态的V-function和Q-function，这属于model-based method， 当我们不知道环境的状态是如何转变的时候就属于 model-free question"
   ]
  },
  {
   "cell_type": "markdown",
   "id": "8155b94d-1a7c-4952-8103-bfd62dcaa7af",
   "metadata": {},
   "source": [
    "定义本章所用环境"
   ]
  },
  {
   "cell_type": "code",
   "execution_count": 2,
   "id": "023d2275-ebfc-4a09-8ca9-3224e8efede5",
   "metadata": {},
   "outputs": [],
   "source": [
    "import gym\n",
    "import pandas as pd\n",
    "import random\n",
    "from collections import defaultdict\n",
    "\n",
    "env = gym.make('Blackjack-v0')\n"
   ]
  },
  {
   "cell_type": "markdown",
   "id": "297aa900-d6d7-4718-80cc-865c8d48dcd7",
   "metadata": {},
   "source": [
    "## 4.1 Monte Carlo Methods(蒙特卡洛方法)"
   ]
  },
  {
   "cell_type": "markdown",
   "id": "367c3e2f-b9b6-481d-9f1f-193cbf834daa",
   "metadata": {},
   "source": [
    "### Monte Carlo Prediction  \n",
    "该算法目的是，求解当前policy下的v-function or q-function  \n",
    "- V function"
   ]
  },
  {
   "cell_type": "code",
   "execution_count": 2,
   "id": "f9c2f13e-1531-46dc-b393-d5fdb0ee18d4",
   "metadata": {},
   "outputs": [],
   "source": [
    "#初始化policy 用于计算value function\n",
    "def policy(state):\n",
    "    if state[0] > 19:\n",
    "        return 0\n",
    "    else:\n",
    "        return 1"
   ]
  },
  {
   "cell_type": "code",
   "execution_count": 3,
   "id": "f476292a-c01a-4e88-aa36-26d453bbe355",
   "metadata": {},
   "outputs": [
    {
     "name": "stdout",
     "output_type": "stream",
     "text": [
      "[((13, 6, False), 1, -1.0)]\n"
     ]
    }
   ],
   "source": [
    "#episode生成器，生成一次完整的游戏过程\n",
    "def generate_episode(policy, num_steps): #有一个最大游戏步数，防止游戏过程过长不结束\n",
    "    episode = []\n",
    "    state = env.reset() #随机产生一个初始状态\n",
    "    \n",
    "    for t in range(num_steps):\n",
    "        action = policy(state)\n",
    "        s_, r, done, info = env.step(action)\n",
    "        episode.append((state, action, r))\n",
    "        if done:\n",
    "            break\n",
    "        state = s_\n",
    "        \n",
    "    return episode\n",
    "\n",
    "#print(generate_episode(policy, 100))"
   ]
  },
  {
   "cell_type": "code",
   "execution_count": 21,
   "id": "eb55c44c-afb7-484c-97aa-6f1a2065ddd5",
   "metadata": {},
   "outputs": [],
   "source": [
    "#计算value function\n",
    "total_rewards = defaultdict(float) #定义一个字典用来储存每个状态的累积奖励之和\n",
    "N = defaultdict(int) #定义一个字典用来储存每个状态的出现次数\n",
    "\n",
    "num_iter = 1000\n",
    "\n",
    "for i in range(num_iter):\n",
    "    episode = generate_episode(policy, 100)\n",
    "    states, actions, rewards = zip(*episode)\n",
    "    for t, state in enumerate(states):\n",
    "        R = sum(rewards[t:])\n",
    "        total_rewards[state] += R\n",
    "        N[state] += 1"
   ]
  },
  {
   "cell_type": "code",
   "execution_count": 22,
   "id": "b3bb1996-8dbb-4429-bb3a-1230b53b0f0e",
   "metadata": {},
   "outputs": [
    {
     "data": {
      "text/html": [
       "<div>\n",
       "<style scoped>\n",
       "    .dataframe tbody tr th:only-of-type {\n",
       "        vertical-align: middle;\n",
       "    }\n",
       "\n",
       "    .dataframe tbody tr th {\n",
       "        vertical-align: top;\n",
       "    }\n",
       "\n",
       "    .dataframe thead th {\n",
       "        text-align: right;\n",
       "    }\n",
       "</style>\n",
       "<table border=\"1\" class=\"dataframe\">\n",
       "  <thead>\n",
       "    <tr style=\"text-align: right;\">\n",
       "      <th></th>\n",
       "      <th>State</th>\n",
       "      <th>Total_rewards</th>\n",
       "      <th>N</th>\n",
       "      <th>value_table</th>\n",
       "    </tr>\n",
       "  </thead>\n",
       "  <tbody>\n",
       "    <tr>\n",
       "      <th>0</th>\n",
       "      <td>(18, 9, True)</td>\n",
       "      <td>0.0</td>\n",
       "      <td>4</td>\n",
       "      <td>0.000000</td>\n",
       "    </tr>\n",
       "    <tr>\n",
       "      <th>1</th>\n",
       "      <td>(15, 9, False)</td>\n",
       "      <td>-9.0</td>\n",
       "      <td>13</td>\n",
       "      <td>-0.692308</td>\n",
       "    </tr>\n",
       "    <tr>\n",
       "      <th>2</th>\n",
       "      <td>(20, 9, False)</td>\n",
       "      <td>11.0</td>\n",
       "      <td>12</td>\n",
       "      <td>0.916667</td>\n",
       "    </tr>\n",
       "    <tr>\n",
       "      <th>3</th>\n",
       "      <td>(20, 2, False)</td>\n",
       "      <td>11.0</td>\n",
       "      <td>15</td>\n",
       "      <td>0.733333</td>\n",
       "    </tr>\n",
       "    <tr>\n",
       "      <th>4</th>\n",
       "      <td>(12, 1, False)</td>\n",
       "      <td>-2.0</td>\n",
       "      <td>10</td>\n",
       "      <td>-0.200000</td>\n",
       "    </tr>\n",
       "    <tr>\n",
       "      <th>5</th>\n",
       "      <td>(15, 1, False)</td>\n",
       "      <td>-7.0</td>\n",
       "      <td>10</td>\n",
       "      <td>-0.700000</td>\n",
       "    </tr>\n",
       "    <tr>\n",
       "      <th>6</th>\n",
       "      <td>(21, 8, True)</td>\n",
       "      <td>4.0</td>\n",
       "      <td>4</td>\n",
       "      <td>1.000000</td>\n",
       "    </tr>\n",
       "    <tr>\n",
       "      <th>7</th>\n",
       "      <td>(19, 10, False)</td>\n",
       "      <td>-38.0</td>\n",
       "      <td>44</td>\n",
       "      <td>-0.863636</td>\n",
       "    </tr>\n",
       "    <tr>\n",
       "      <th>8</th>\n",
       "      <td>(21, 9, True)</td>\n",
       "      <td>9.0</td>\n",
       "      <td>9</td>\n",
       "      <td>1.000000</td>\n",
       "    </tr>\n",
       "    <tr>\n",
       "      <th>9</th>\n",
       "      <td>(15, 2, True)</td>\n",
       "      <td>-2.0</td>\n",
       "      <td>2</td>\n",
       "      <td>-1.000000</td>\n",
       "    </tr>\n",
       "  </tbody>\n",
       "</table>\n",
       "</div>"
      ],
      "text/plain": [
       "             State  Total_rewards   N  value_table\n",
       "0    (18, 9, True)            0.0   4     0.000000\n",
       "1   (15, 9, False)           -9.0  13    -0.692308\n",
       "2   (20, 9, False)           11.0  12     0.916667\n",
       "3   (20, 2, False)           11.0  15     0.733333\n",
       "4   (12, 1, False)           -2.0  10    -0.200000\n",
       "5   (15, 1, False)           -7.0  10    -0.700000\n",
       "6    (21, 8, True)            4.0   4     1.000000\n",
       "7  (19, 10, False)          -38.0  44    -0.863636\n",
       "8    (21, 9, True)            9.0   9     1.000000\n",
       "9    (15, 2, True)           -2.0   2    -1.000000"
      ]
     },
     "execution_count": 22,
     "metadata": {},
     "output_type": "execute_result"
    }
   ],
   "source": [
    "total_return = pd.DataFrame(total_rewards.items(), columns=['State', 'Total_rewards'])\n",
    "N = pd.DataFrame(N.items(), columns=['State', 'N'])\n",
    "df = pd.merge(total_return, N, on=\"State\")\n",
    "df['value_table'] = df['Total_rewards'] / df['N']\n",
    "df.head(10)"
   ]
  },
  {
   "cell_type": "markdown",
   "id": "8be099d1-f210-4c1b-999a-08a156dd9504",
   "metadata": {},
   "source": [
    "我们也可以采用增量式均值的方法求解value function"
   ]
  },
  {
   "cell_type": "code",
   "execution_count": null,
   "id": "31d636c3-df44-4072-a7b6-99e4a9ad48fd",
   "metadata": {},
   "outputs": [],
   "source": [
    "v_function = defaultdict(float) #定义一个字典用来储存每个state的value值\n",
    "N = defaultdict(int) #定义一个字典用来储存每个状态的出现次数\n",
    "\n",
    "num_iter = 1000\n",
    "\n",
    "for i in range(num_iter):\n",
    "    episode = generate_episode(policy, 100)\n",
    "    states, actions, rewards = zip(*episode)\n",
    "    for t, state in enumerate(states):\n",
    "        R = sum(rewards[t:])\n",
    "        #incremental mean\n",
    "        N[state] += 1\n",
    "        v_function[state] += 1.0 / N[state] * (R - v_function[state])"
   ]
  },
  {
   "cell_type": "markdown",
   "id": "252e68f1-0a7c-4d8d-9f10-20691b941d58",
   "metadata": {},
   "source": [
    "- Q function"
   ]
  },
  {
   "cell_type": "code",
   "execution_count": 6,
   "id": "37dcb125-7707-466e-9280-e4a02272fdba",
   "metadata": {},
   "outputs": [],
   "source": [
    "q_function = defaultdict(float) #定义一个字典用来储存每个（state，action）的value值\n",
    "N = defaultdict(int) #定义一个字典用来储存每个状态的出现次数\n",
    "\n",
    "num_iter = 1000\n",
    "\n",
    "for i in range(num_iter):\n",
    "    episode = generate_episode(policy, 100)\n",
    "    state_action = [(s, a) for s, a, r in episode] #记录本次episode中所有（state， action）\n",
    "    rewards = [r for s, a, r in episode]            #及其reward\n",
    "    for t, (state, action, _) in enumerate(episode):\n",
    "        R = sum(rewards[t:])\n",
    "        #incremental mean\n",
    "        N[(state, action)] += 1\n",
    "        q_function[(state,action)] += 1.0 / N[(state, action)] * (R - q_function[(state, action)])"
   ]
  },
  {
   "cell_type": "code",
   "execution_count": 9,
   "id": "0fad3627-cc3d-43ac-8ab0-8da527f6ec48",
   "metadata": {},
   "outputs": [
    {
     "data": {
      "text/html": [
       "<div>\n",
       "<style scoped>\n",
       "    .dataframe tbody tr th:only-of-type {\n",
       "        vertical-align: middle;\n",
       "    }\n",
       "\n",
       "    .dataframe tbody tr th {\n",
       "        vertical-align: top;\n",
       "    }\n",
       "\n",
       "    .dataframe thead th {\n",
       "        text-align: right;\n",
       "    }\n",
       "</style>\n",
       "<table border=\"1\" class=\"dataframe\">\n",
       "  <thead>\n",
       "    <tr style=\"text-align: right;\">\n",
       "      <th></th>\n",
       "      <th>State-action</th>\n",
       "      <th>q-value</th>\n",
       "    </tr>\n",
       "  </thead>\n",
       "  <tbody>\n",
       "    <tr>\n",
       "      <th>0</th>\n",
       "      <td>((13, 5, False), 1)</td>\n",
       "      <td>-0.800000</td>\n",
       "    </tr>\n",
       "    <tr>\n",
       "      <th>1</th>\n",
       "      <td>((17, 5, False), 1)</td>\n",
       "      <td>-1.000000</td>\n",
       "    </tr>\n",
       "    <tr>\n",
       "      <th>2</th>\n",
       "      <td>((19, 5, False), 1)</td>\n",
       "      <td>-1.000000</td>\n",
       "    </tr>\n",
       "    <tr>\n",
       "      <th>3</th>\n",
       "      <td>((19, 10, True), 1)</td>\n",
       "      <td>-0.571429</td>\n",
       "    </tr>\n",
       "    <tr>\n",
       "      <th>4</th>\n",
       "      <td>((17, 10, False), 1)</td>\n",
       "      <td>-0.755102</td>\n",
       "    </tr>\n",
       "    <tr>\n",
       "      <th>5</th>\n",
       "      <td>((12, 10, False), 1)</td>\n",
       "      <td>-0.523810</td>\n",
       "    </tr>\n",
       "    <tr>\n",
       "      <th>6</th>\n",
       "      <td>((9, 1, False), 1)</td>\n",
       "      <td>-1.000000</td>\n",
       "    </tr>\n",
       "    <tr>\n",
       "      <th>7</th>\n",
       "      <td>((17, 1, False), 1)</td>\n",
       "      <td>-0.777778</td>\n",
       "    </tr>\n",
       "    <tr>\n",
       "      <th>8</th>\n",
       "      <td>((21, 3, True), 0)</td>\n",
       "      <td>1.000000</td>\n",
       "    </tr>\n",
       "    <tr>\n",
       "      <th>9</th>\n",
       "      <td>((14, 5, False), 1)</td>\n",
       "      <td>-0.500000</td>\n",
       "    </tr>\n",
       "  </tbody>\n",
       "</table>\n",
       "</div>"
      ],
      "text/plain": [
       "           State-action   q-value\n",
       "0   ((13, 5, False), 1) -0.800000\n",
       "1   ((17, 5, False), 1) -1.000000\n",
       "2   ((19, 5, False), 1) -1.000000\n",
       "3   ((19, 10, True), 1) -0.571429\n",
       "4  ((17, 10, False), 1) -0.755102\n",
       "5  ((12, 10, False), 1) -0.523810\n",
       "6    ((9, 1, False), 1) -1.000000\n",
       "7   ((17, 1, False), 1) -0.777778\n",
       "8    ((21, 3, True), 0)  1.000000\n",
       "9   ((14, 5, False), 1) -0.500000"
      ]
     },
     "execution_count": 9,
     "metadata": {},
     "output_type": "execute_result"
    }
   ],
   "source": [
    "q = pd.DataFrame(q_function.items(), columns=['State-action', 'q-value'])\n",
    "q.head(10)"
   ]
  },
  {
   "cell_type": "markdown",
   "id": "4da1d26f-b1f6-4f37-93a3-129c5c94272b",
   "metadata": {},
   "source": [
    "### Monte Carlo Control  \n",
    "计算 optimal policy"
   ]
  },
  {
   "cell_type": "code",
   "execution_count": 6,
   "id": "b635e646-9db5-4e99-96ae-9b4397f881d0",
   "metadata": {},
   "outputs": [],
   "source": [
    "Q = defaultdict(float)\n",
    "total_return = defaultdict(float)\n",
    "N = defaultdict(int)"
   ]
  },
  {
   "cell_type": "code",
   "execution_count": 7,
   "id": "c05796e3-05e6-411f-b4dd-5f33c9a21a9c",
   "metadata": {},
   "outputs": [],
   "source": [
    "#定义epsilon贪心策略\n",
    "def epsilon_greedy_policy(state, Q):\n",
    "    epsilon = 0.5\n",
    "    if random.uniform(0, 1) < epsilon:\n",
    "        return env.action_space.sample()\n",
    "    else:\n",
    "        return max(list(range(env.action_space.n)), key = lambda x:Q[(state, x)])"
   ]
  },
  {
   "cell_type": "code",
   "execution_count": 8,
   "id": "cafdd673-70b3-459a-82f0-7dcb45948594",
   "metadata": {},
   "outputs": [],
   "source": [
    "#定义episode生成器\n",
    "'''代码同上'''\n",
    "def generate_episode(policy, num_steps): #有一个最大游戏步数，防止游戏过程过长不结束\n",
    "    episode = []\n",
    "    state = env.reset() #随机产生一个初始状态\n",
    "    \n",
    "    for t in range(num_steps):\n",
    "        action = epsilon_greedy_policy(state, policy)\n",
    "        s_, r, done, info = env.step(action)\n",
    "        episode.append((state, action, r))\n",
    "        if done:\n",
    "            break\n",
    "        state = s_\n",
    "        \n",
    "    return episode"
   ]
  },
  {
   "cell_type": "code",
   "execution_count": 10,
   "id": "24f1f979-5159-42fb-b69b-2cc5bc2dcccd",
   "metadata": {},
   "outputs": [],
   "source": [
    "#计算最佳policy\n",
    "#从上面的policy定义代码可以发现，agent实际上就是在根据Q function来采取action。所以计算最佳policy就是计算optimal Q function\n",
    "#所以该部分代码与上面计算Q function的代码一样\n",
    "num_iter = 1000\n",
    "\n",
    "for i in range(num_iter):\n",
    "    episode = generate_episode(Q, 100)\n",
    "    state_action = [(s, a) for s, a, r in episode] #记录本次episode中所有（state， action）\n",
    "    rewards = [r for s, a, r in episode]            #及其reward\n",
    "    for t, (state, action, _) in enumerate(episode):\n",
    "        R = sum(rewards[t:])\n",
    "        #incremental mean\n",
    "        N[(state, action)] += 1\n",
    "        Q[(state,action)] += 1.0 / N[(state, action)] * (R - Q[(state, action)])"
   ]
  },
  {
   "cell_type": "code",
   "execution_count": 11,
   "id": "36234a7c-0ba9-4f87-9d0c-8b8644bcb894",
   "metadata": {},
   "outputs": [
    {
     "data": {
      "text/html": [
       "<div>\n",
       "<style scoped>\n",
       "    .dataframe tbody tr th:only-of-type {\n",
       "        vertical-align: middle;\n",
       "    }\n",
       "\n",
       "    .dataframe tbody tr th {\n",
       "        vertical-align: top;\n",
       "    }\n",
       "\n",
       "    .dataframe thead th {\n",
       "        text-align: right;\n",
       "    }\n",
       "</style>\n",
       "<table border=\"1\" class=\"dataframe\">\n",
       "  <thead>\n",
       "    <tr style=\"text-align: right;\">\n",
       "      <th></th>\n",
       "      <th>state-action</th>\n",
       "      <th>value</th>\n",
       "    </tr>\n",
       "  </thead>\n",
       "  <tbody>\n",
       "    <tr>\n",
       "      <th>0</th>\n",
       "      <td>((21, 10, True), 1)</td>\n",
       "      <td>-0.333333</td>\n",
       "    </tr>\n",
       "    <tr>\n",
       "      <th>1</th>\n",
       "      <td>((16, 10, False), 0)</td>\n",
       "      <td>-0.538462</td>\n",
       "    </tr>\n",
       "    <tr>\n",
       "      <th>2</th>\n",
       "      <td>((16, 10, False), 1)</td>\n",
       "      <td>-0.470588</td>\n",
       "    </tr>\n",
       "    <tr>\n",
       "      <th>3</th>\n",
       "      <td>((12, 6, False), 1)</td>\n",
       "      <td>0.000000</td>\n",
       "    </tr>\n",
       "    <tr>\n",
       "      <th>4</th>\n",
       "      <td>((13, 6, False), 0)</td>\n",
       "      <td>-0.250000</td>\n",
       "    </tr>\n",
       "    <tr>\n",
       "      <th>5</th>\n",
       "      <td>((20, 5, False), 0)</td>\n",
       "      <td>0.875000</td>\n",
       "    </tr>\n",
       "    <tr>\n",
       "      <th>6</th>\n",
       "      <td>((20, 5, False), 1)</td>\n",
       "      <td>-1.000000</td>\n",
       "    </tr>\n",
       "    <tr>\n",
       "      <th>7</th>\n",
       "      <td>((9, 10, False), 0)</td>\n",
       "      <td>-0.818182</td>\n",
       "    </tr>\n",
       "    <tr>\n",
       "      <th>8</th>\n",
       "      <td>((9, 10, False), 1)</td>\n",
       "      <td>-1.000000</td>\n",
       "    </tr>\n",
       "    <tr>\n",
       "      <th>9</th>\n",
       "      <td>((16, 1, True), 0)</td>\n",
       "      <td>-1.000000</td>\n",
       "    </tr>\n",
       "    <tr>\n",
       "      <th>10</th>\n",
       "      <td>((14, 6, False), 0)</td>\n",
       "      <td>-0.200000</td>\n",
       "    </tr>\n",
       "  </tbody>\n",
       "</table>\n",
       "</div>"
      ],
      "text/plain": [
       "            state-action     value\n",
       "0    ((21, 10, True), 1) -0.333333\n",
       "1   ((16, 10, False), 0) -0.538462\n",
       "2   ((16, 10, False), 1) -0.470588\n",
       "3    ((12, 6, False), 1)  0.000000\n",
       "4    ((13, 6, False), 0) -0.250000\n",
       "5    ((20, 5, False), 0)  0.875000\n",
       "6    ((20, 5, False), 1) -1.000000\n",
       "7    ((9, 10, False), 0) -0.818182\n",
       "8    ((9, 10, False), 1) -1.000000\n",
       "9     ((16, 1, True), 0) -1.000000\n",
       "10   ((14, 6, False), 0) -0.200000"
      ]
     },
     "execution_count": 11,
     "metadata": {},
     "output_type": "execute_result"
    }
   ],
   "source": [
    "df = pd.DataFrame(Q.items(), columns = ['state-action', 'value'])\n",
    "df.head(11)"
   ]
  }
 ],
 "metadata": {
  "kernelspec": {
   "display_name": "RL_gym",
   "language": "python",
   "name": "rl_gym"
  },
  "language_info": {
   "codemirror_mode": {
    "name": "ipython",
    "version": 3
   },
   "file_extension": ".py",
   "mimetype": "text/x-python",
   "name": "python",
   "nbconvert_exporter": "python",
   "pygments_lexer": "ipython3",
   "version": "3.9.13"
  }
 },
 "nbformat": 4,
 "nbformat_minor": 5
}
